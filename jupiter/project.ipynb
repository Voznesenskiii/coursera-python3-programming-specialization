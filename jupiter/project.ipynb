{
 "cells": [
  {
   "cell_type": "markdown",
   "metadata": {},
   "source": [
    "# The Project #\n",
    "1. This is a project with minimal scaffolding. Expect to use the the discussion forums to gain insights! It’s not cheating to ask others for opinions or perspectives!\n",
    "2. Be inquisitive, try out new things.\n",
    "3. Use the previous modules for insights into how to complete the functions! You'll have to combine Pillow, OpenCV, and Pytesseract\n",
    "4. There are hints provided in Coursera, feel free to explore the hints if needed. Each hint provide progressively more details on how to solve the issue. This project is intended to be comprehensive and difficult if you do it without the hints.\n",
    "\n",
    "### The Assignment ###\n",
    "Take a [ZIP file](https://en.wikipedia.org/wiki/Zip_(file_format)) of images and process them, using a [library built into python](https://docs.python.org/3/library/zipfile.html) that you need to learn how to use. A ZIP file takes several different files and compresses them, thus saving space, into one single file. The files in the ZIP file we provide are newspaper images (like you saw in week 3). Your task is to write python code which allows one to search through the images looking for the occurrences of keywords and faces. E.g. if you search for \"pizza\" it will return a contact sheet of all of the faces which were located on the newspaper page which mentions \"pizza\". This will test your ability to learn a new ([library](https://docs.python.org/3/library/zipfile.html)), your ability to use OpenCV to detect faces, your ability to use tesseract to do optical character recognition, and your ability to use PIL to composite images together into contact sheets.\n",
    "\n",
    "Each page of the newspapers is saved as a single PNG image in a file called [images.zip](./readonly/images.zip). These newspapers are in english, and contain a variety of stories, advertisements and images. Note: This file is fairly large (~200 MB) and may take some time to work with, I would encourage you to use [small_img.zip](./readonly/small_img.zip) for testing.\n",
    "\n",
    "Here's an example of the output expected. Using the [small_img.zip](./readonly/small_img.zip) file, if I search for the string \"Christopher\" I should see the following image:\n",
    "![Christopher Search](./readonly/small_project.png)\n",
    "If I were to use the [images.zip](./readonly/images.zip) file and search for \"Mark\" I should see the following image (note that there are times when there are no faces on a page, but a word is found!):\n",
    "![Mark Search](./readonly/large_project.png)\n",
    "\n",
    "Note: That big file can take some time to process - for me it took nearly ten minutes! Use the small one for testing."
   ]
  },
  {
   "cell_type": "code",
   "execution_count": 46,
   "metadata": {},
   "outputs": [
    {
     "name": "stdout",
     "output_type": "stream",
     "text": [
      "=== File: small_img.zip ===\n",
      "=== Search: Christopher ===\n"
     ]
    }
   ],
   "source": [
    "from zipfile import ZipFile \n",
    "from PIL import Image\n",
    "import pytesseract\n",
    "import cv2 as cv\n",
    "import numpy as np\n",
    "\n",
    "# loading the face detection classifier\n",
    "face_cascade = cv.CascadeClassifier('readonly/haarcascade_frontalface_default.xml')\n",
    "\n",
    "database = {}\n",
    "\n",
    "def init(fileName):\n",
    "    database = {}\n",
    "    with ZipFile(fileName, 'r') as archive:\n",
    "        for entry in archive.infolist():\n",
    "            with archive.open(entry) as file:\n",
    "                img = Image.open(file)\n",
    "                gray_img= img.convert(\"L\")\n",
    "\n",
    "                text = pytesseract.image_to_string(gray_img) \n",
    "\n",
    "                np_img = np.array(gray_img)\n",
    "                faces = face_cascade.detectMultiScale(np_img, 1.35)\n",
    "                database[entry.filename] = {'image': img, 'text': text, 'faces': faces}\n",
    "                \n",
    "def createContactSheet(img, faces):\n",
    "    SIZE = 100\n",
    "    MAX_COL = 5\n",
    "    MAX_ROW = (len(faces) - 1 + SIZE) // SIZE\n",
    "    contact_sheet = Image.new(img.mode, (SIZE * MAX_COL, SIZE * MAX_ROW))\n",
    "    \n",
    "    px=0\n",
    "    py=0\n",
    "    \n",
    "    np_img = np.array(img)     \n",
    "    for x,y,w,h in faces:\n",
    "        f = np_img[y:y+h, x:x+w]\n",
    "        face = Image.fromarray(f)\n",
    "        face.thumbnail((SIZE, SIZE)) \n",
    "        \n",
    "        contact_sheet.paste(face, (px, py))\n",
    "        if px + SIZE == contact_sheet.width:\n",
    "            px=0\n",
    "            py=py+SIZE\n",
    "        else:\n",
    "            px=px+SIZE\n",
    "    return contact_sheet\n",
    "\n",
    "def search(word):\n",
    "    for (fileName, info) in database.items():\n",
    "        print(info)\n",
    "        print(info[\"text\"])\n",
    "        if word in info[\"text\"]:\n",
    "            print(\"Result found in {}\", fileName)\n",
    "            if len(info[\"faces\"]) > 0:\n",
    "                contact_sheet = createContactSheet(info[\"image\"], info[\"faces\"])\n",
    "                display(contact_sheet)\n",
    "            else:\n",
    "                print(\"But there were no faces in that file!\")\n",
    "\n",
    "print(\"=== File: small_img.zip ===\")\n",
    "init(\"readonly/small_img.zip\")\n",
    "print(\"=== Search: Christopher ===\")\n",
    "search(\"Christopher\")"
   ]
  },
  {
   "cell_type": "code",
   "execution_count": null,
   "metadata": {},
   "outputs": [],
   "source": []
  }
 ],
 "metadata": {
  "anaconda-cloud": {},
  "kernelspec": {
   "display_name": "Python 3",
   "language": "python",
   "name": "python3"
  },
  "language_info": {
   "codemirror_mode": {
    "name": "ipython",
    "version": 3
   },
   "file_extension": ".py",
   "mimetype": "text/x-python",
   "name": "python",
   "nbconvert_exporter": "python",
   "pygments_lexer": "ipython3",
   "version": "3.7.1"
  }
 },
 "nbformat": 4,
 "nbformat_minor": 2
}
